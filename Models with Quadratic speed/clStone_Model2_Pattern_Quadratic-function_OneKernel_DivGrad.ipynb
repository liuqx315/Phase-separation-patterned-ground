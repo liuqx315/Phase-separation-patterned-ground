{
 "cells": [
  {
   "cell_type": "code",
   "execution_count": 91,
   "metadata": {},
   "outputs": [],
   "source": [
    "%reset -f \n",
    "# from __future__ import absolute_import, print_function\n",
    "import time\n",
    "import numpy as np\n",
    "import pyopencl as cl\n",
    "import matplotlib.pyplot as plt\n",
    "import matplotlib.animation as animation\n",
    "from scipy import signal\n",
    "from matplotlib import rcParams\n",
    "from scipy import io\n",
    "import os\n",
    "import imageio"
   ]
  },
  {
   "cell_type": "code",
   "execution_count": 92,
   "metadata": {},
   "outputs": [
    {
     "data": {
      "text/html": [
       "<style>.container { width:90% !important; }</style>"
      ],
      "text/plain": [
       "<IPython.core.display.HTML object>"
      ]
     },
     "metadata": {},
     "output_type": "display_data"
    }
   ],
   "source": [
    "# Widening the screen\n",
    "from IPython.core.display import display\n",
    "from IPython.display import HTML\n",
    "display(HTML(\"<style>.container { width:90% !important; }</style>\"))\n",
    "\n",
    "rcParams['figure.dpi'] = 600\n",
    "rcParams['font.size'] = 16\n",
    "rcParams['font.family'] = 'StixGeneral'\n",
    "plt.rc('font', size=16)          # controls default text sizes\n",
    "plt.rc('axes', titlesize=16)     # fontsize of the axes title\n",
    "plt.rc('axes', labelsize=16)     # fontsize of the x and y labels\n",
    "plt.rc('xtick', labelsize=16)    # fontsize of the tick labels\n",
    "plt.rc('ytick', labelsize=16)    # fontsize of the tick labels\n",
    "plt.rc('legend', fontsize=16)    # legend fontsize\n",
    "plt.rc('figure', titlesize=16)   # fontsize of the figure title"
   ]
  },
  {
   "cell_type": "markdown",
   "metadata": {},
   "source": [
    "### Simulation settings"
   ]
  },
  {
   "cell_type": "code",
   "execution_count": 93,
   "metadata": {},
   "outputs": [],
   "source": [
    "length    = 512.0       # 2.5 Length of the physical landscape\n",
    "n         = 512         # Size of the 2D grid\n",
    "endtime   = 20000.0     # end time\n",
    "dT        = 0.02        # 0.02     #calculate time step\n",
    "nplot     = 100\n",
    "nsteps    = np.ceil(endtime/nplot/dT).astype(int)    #number of time steps"
   ]
  },
  {
   "cell_type": "markdown",
   "metadata": {},
   "source": [
    "### Precalculations"
   ]
  },
  {
   "cell_type": "code",
   "execution_count": 94,
   "metadata": {},
   "outputs": [
    {
     "name": "stdout",
     "output_type": "stream",
     "text": [
      " Current grid dimensions: 512 x 512 cells\n",
      "\n"
     ]
    }
   ],
   "source": [
    "dX = length/n      # Spatial step size\n",
    "dY = length/n      # Spatial step size\n",
    "Grid_Width  = n\n",
    "Grid_Height = n\n",
    "# %% Reporting in the simulation on the console\n",
    "print(\" Current grid dimensions: %d x %d cells\\n\" % (Grid_Width, Grid_Height));"
   ]
  },
  {
   "cell_type": "markdown",
   "metadata": {},
   "source": [
    "### Defining the device that is used"
   ]
  },
  {
   "cell_type": "code",
   "execution_count": 95,
   "metadata": {},
   "outputs": [
    {
     "name": "stdout",
     "output_type": "stream",
     "text": [
      " Compute Device: Tesla P40\n",
      "\n"
     ]
    }
   ],
   "source": [
    "# Setting up the OpenCL context\n",
    "DeviceNr = 0   # 0 = GTX 960M\n",
    "os.environ['PYOPENCL_COMPILER_OUTPUT'] = '1'\n",
    "platform = cl.get_platforms()\n",
    "Devices  = platform[0].get_devices()  # 0 = GPU\n",
    "context  = cl.Context([Devices[DeviceNr]])\n",
    "queue    = cl.CommandQueue(context)\n",
    "mf       = cl.mem_flags # Memory flags are set\n",
    "print(\" Compute Device: %s\\n\" % Devices[DeviceNr].name)"
   ]
  },
  {
   "cell_type": "markdown",
   "metadata": {},
   "source": [
    "### Parameter definition "
   ]
  },
  {
   "cell_type": "code",
   "execution_count": 96,
   "metadata": {},
   "outputs": [],
   "source": [
    "# parameters\n",
    "Ds     =     1.0              # 1    - The diffusivity parameter on S\n",
    "Dh     =     5.05             # 0.01 - The diffusivity parameter on H\n",
    "lambda1=     0.85\n",
    "kappa  =     0.05\n",
    "v0     =     2.02\n",
    "win    =     0.2              # control height of needle ice\n",
    "a      =     0.2              # reduce coefficient of stone on needle ice height\n",
    "alpha  =     0.5              # 1/d/tau\n",
    "beta   =     0.2              # beta vaule b*v0\n",
    "d      =     0.01             # lose of needle ice\n",
    "\n",
    "S0_max =     0.80\n",
    "S0_min =     0.80\n",
    "Lambda_max=  3.8             # p1 max mean=2.47\n",
    "Lambda_min=  3.8             # p1 min\n",
    "p0 = 2.09\n",
    "p1 = 3.0\n",
    "p2 = 1.73\n"
   ]
  },
  {
   "cell_type": "code",
   "execution_count": 97,
   "metadata": {},
   "outputs": [],
   "source": [
    "# np.mean(np.mean(np.random.rand(n*n)))"
   ]
  },
  {
   "cell_type": "markdown",
   "metadata": {},
   "source": [
    "### Initial values"
   ]
  },
  {
   "cell_type": "code",
   "execution_count": 98,
   "metadata": {},
   "outputs": [],
   "source": [
    "# The array is allocated on the GPU and the initial values are copied onto it\n",
    "T        = np.tile(np.linspace(S0_min,S0_max,n),n)  \n",
    "# np.tile(np.linspace(3.0,11.0,n),n)； np.tile(np.logspace(np.log10(S0_min),np.log10(S0_max),n),n)\n",
    "# S\n",
    "S        = (np.random.rand(n*n)-0.5)*0.2 + T #2.0\n",
    "S_host   = S.astype(np.float32)\n",
    "S_g      = cl.Buffer(context, mf.READ_WRITE | mf.COPY_HOST_PTR, hostbuf=S_host)\n",
    "# H\n",
    "H        = (np.random.rand(n*n)-0.5)*0.2 + 1.0\n",
    "H_host   = H.astype(np.float32)\n",
    "H_g      = cl.Buffer(context, mf.READ_WRITE | mf.COPY_HOST_PTR, hostbuf=H_host)\n",
    "# CoeffS\n",
    "CoeffS        = S*0.0\n",
    "CoeffS_host   = CoeffS.astype(np.float32)\n",
    "CoeffS_g      = cl.Buffer(context, mf.READ_WRITE | mf.COPY_HOST_PTR, hostbuf=CoeffS_host)\n",
    "# CoeffH\n",
    "CoeffH        = S*0.0\n",
    "CoeffH_host   = CoeffH.astype(np.float32)\n",
    "CoeffH_g      = cl.Buffer(context, mf.READ_WRITE | mf.COPY_HOST_PTR, hostbuf=CoeffH_host)\n",
    "# TS\n",
    "TS       = S*0.0\n",
    "TS_host  = TS.astype(np.float32)\n",
    "TS_g     = cl.Buffer(context, mf.READ_WRITE | mf.COPY_HOST_PTR, hostbuf=TS_host)\n",
    "#parameter ->array\n",
    "#Da array -> GPU\n",
    "lambda_arr        = np.linspace(Lambda_max,Lambda_min,n).repeat(n)#np.logspace(np.log10(3.3),np.log10(0.3),n).repeat(n)#np.logspace(np.log10(3.3),np.log10(0.3),n).repeat(n)#0.85\n",
    "lambda_arr_host   = lambda_arr.astype(np.float32)\n",
    "lambda_arr_g      = cl.Buffer(context, mf.READ_WRITE | mf.COPY_HOST_PTR, hostbuf=lambda_arr_host)"
   ]
  },
  {
   "cell_type": "markdown",
   "metadata": {},
   "source": [
    "### Defining the OpenCL simulation kernel"
   ]
  },
  {
   "cell_type": "code",
   "execution_count": 99,
   "metadata": {},
   "outputs": [],
   "source": [
    "# List of parameters for the OpenCL kernel. Seperate with comma without spaces\n",
    "# Setting up the parameters for the Kernel\n",
    "PassVars=\"Ds,Dh,lambda1,kappa,v0,win,a,alpha,beta,d,p0,p1,p2,dX,dY,dT,Grid_Width,Grid_Height\"\n",
    "\n",
    "PassVals=eval(PassVars)\n",
    "PassVars=PassVars.split(',')\n",
    "Params=\"\"\n",
    "\n",
    "for ii in range(len(PassVals)):\n",
    "    Params = Params+\"#define \" + PassVars[ii] + \" \" + str(PassVals[ii]) + \" \\n\""
   ]
  },
  {
   "cell_type": "code",
   "execution_count": 100,
   "metadata": {},
   "outputs": [],
   "source": [
    "ComputeCode = \"\"\"\n",
    "\n",
    "////////////////////////////////////////////////////////////////////////////////\n",
    "// Laplacation operator definition, to calculate diffusive fluxes\n",
    "////////////////////////////////////////////////////////////////////////////////\n",
    "\n",
    "static float d2_dxy2(__global float* pop)\n",
    "{\n",
    "    // Getting thread coordinates on the grid\n",
    "    size_t current = get_global_id(0);\n",
    "    size_t row     = (size_t)(current/Grid_Width);\n",
    "    size_t column  = current%Grid_Width;\n",
    "    \n",
    "    // Computing positions of the neighbors\n",
    "    size_t left    = row * Grid_Width + column-1;\n",
    "    size_t right   = row * Grid_Width + column+1;\n",
    "    size_t top     = (row-1) * Grid_Width + column;\n",
    "    size_t bottom  = (row+1) * Grid_Width + column;\n",
    "    \n",
    "    float retval = ( (pop[left] - 2.0*pop[current] + pop[right]) )\n",
    "                     /(float)dX/(float)dX +\n",
    "                   ( (pop[top]  - 2.0*pop[current] + pop[bottom]))\n",
    "                     /(float)dY/(float)dY;\n",
    "    \n",
    "    return retval;\n",
    "}\n",
    "\n",
    "///////////////////////////////////////////////////////////////////////////////\n",
    "// Divergence of Gradient operator definition \n",
    "///////////////////////////////////////////////////////////////////////////////\n",
    "#define min(a,b) (((a)<(b))?(a):(b))\n",
    "#define max(a,b) (((a)>(b))?(a):(b))\n",
    "static float DivGrad(__global float* pop, __global float* qoq)\n",
    "{\n",
    "    // Getting thread coordinates on the grid\n",
    "    size_t current = get_global_id(0);\n",
    "    size_t row     = (size_t)(current/Grid_Width);\n",
    "    size_t column  = current%Grid_Width;\n",
    "    \n",
    "    // Computing positions of the neighbors\n",
    "    size_t left    = row * Grid_Width + column-1;\n",
    "    size_t right   = row * Grid_Width + column+1;\n",
    "    size_t top     = (row-1) * Grid_Width + column;\n",
    "    size_t bottom  = (row+1) * Grid_Width + column;\n",
    "    \n",
    "    float retval = ((pop[left]+pop[current])*(qoq[left]-qoq[current])/2.0 - (pop[current]+ pop[right])*(qoq[current]-qoq[right] )/2.0 )/(float)dX/(float)dX +\n",
    "                   ((pop[top] +pop[current])*(qoq[top] -qoq[current])/2.0 - (pop[current]+pop[bottom])*(qoq[current]-qoq[bottom])/2.0 )/(float)dY/(float)dY;\n",
    "\n",
    "    return retval;\n",
    "}\n",
    "\n",
    "////////////////////////////////////////////////////////////////////////////////\n",
    "// Simulation kernel\n",
    "////////////////////////////////////////////////////////////////////////////////\n",
    "\n",
    "__kernel void Simulation_Kernel(__global float* S, __global float* H, __global float* CoeffS, __global float* CoeffH, __global float* TS, __global float* lambda_arr)\n",
    "{\n",
    "    size_t current = get_global_id(0);\n",
    "    int row        = floor((float)current/(float)Grid_Width);\n",
    "    int column     = current%Grid_Width;\n",
    "    \n",
    "    if(row > 1 && row < Grid_Height-2 && column > 1 && column < Grid_Width-2)\n",
    "    {\n",
    "        // Below formular is De(S,H) for Quadratic function in Table S2\n",
    "        float lambda= lambda_arr[current];\n",
    "        \n",
    "        CoeffS[current] = alpha*beta*beta*H[current]*H[current]* (p2*S[current]*S[current]-lambda*S[current]+p0)*(3.0*p2*S[current]*S[current]-2.0*lambda*S[current]+p0);\n",
    "        CoeffH[current] = alpha*beta*beta*S[current]*H[current]* (p2*S[current]*S[current]-lambda*S[current]+p0);\n",
    "        \n",
    "        TS[current] = kappa*d2_dxy2(S);\n",
    "        S[current]  = max(0.0f,S[current]+dT*( DivGrad(CoeffS, S) + DivGrad(CoeffH, H) - Ds*d2_dxy2(TS) ));\n",
    "        H[current]  = max(0.0f,H[current]+dT*( win - a*S[current]*S[current]*H[current] - d*H[current] + Dh*d2_dxy2(H) ));\n",
    "    }\n",
    "    // HANDLE Boundaries\n",
    "   else if(row<=1) // Lower boundary\n",
    "    {\n",
    "        S[current]=     S[(row + Grid_Height-4)*Grid_Width + column];\n",
    "        H[current]=     H[(row + Grid_Height-4)*Grid_Width + column];\n",
    "        CoeffS[current]=CoeffS[(row + Grid_Height-4)*Grid_Width + column];\n",
    "        CoeffH[current]=CoeffH[(row + Grid_Height-4)*Grid_Width + column];\n",
    "        TS[current]=    TS[(row + Grid_Height-4)*Grid_Width + column];\n",
    "    }\n",
    "    else if(row>=Grid_Height-2) // Upper boundary\n",
    "    {\n",
    "        S[current]=S[(row-Grid_Height+4) * Grid_Width + column];\n",
    "        H[current]=H[(row-Grid_Height+4) * Grid_Width + column];\n",
    "        CoeffS[current]=CoeffS[(row-Grid_Height+4) * Grid_Width + column];\n",
    "        CoeffH[current]=CoeffH[(row-Grid_Height+4) * Grid_Width + column];\n",
    "        TS[current]=TS[(row-Grid_Height+4) * Grid_Width + column];\n",
    "    }\n",
    "    else if(column<=1) // Left boundary\n",
    "    {\n",
    "        S[current]=     S[row * Grid_Width +column+Grid_Width - 4];\n",
    "        H[current]=     H[row * Grid_Width +column+Grid_Width - 4];\n",
    "        CoeffS[current]=CoeffS[row * Grid_Width +column+Grid_Width - 4];\n",
    "        CoeffH[current]=CoeffH[row * Grid_Width +column+Grid_Width - 4];\n",
    "        TS[current]=    TS[row * Grid_Width +column+Grid_Width - 4];\n",
    "    }\n",
    "    else if(column>=Grid_Width-2) // Right boundary\n",
    "    {\n",
    "        S[current]=     S[row * Grid_Width + column - Grid_Width+4];\n",
    "        H[current]=     H[row * Grid_Width + column - Grid_Width+4];\n",
    "        CoeffS[current]=CoeffS[row * Grid_Width + column - Grid_Width+4];\n",
    "        CoeffH[current]=CoeffH[row * Grid_Width + column - Grid_Width+4];\n",
    "        TS[current]=    TS[row * Grid_Width + column - Grid_Width+4];\n",
    "    }\n",
    "   // barrier(CLK_GLOBAL_MEM_FENCE);   \n",
    "} // End Simulation_Kernel\n",
    "\"\"\""
   ]
  },
  {
   "cell_type": "markdown",
   "metadata": {},
   "source": [
    "### Here the kernel is compiled"
   ]
  },
  {
   "cell_type": "code",
   "execution_count": 101,
   "metadata": {},
   "outputs": [],
   "source": [
    "program = cl.Program(context, Params + ComputeCode).build()"
   ]
  },
  {
   "cell_type": "code",
   "execution_count": null,
   "metadata": {
    "scrolled": true
   },
   "outputs": [
    {
     "name": "stdout",
     "output_type": "stream",
     "text": [
      "Progress :\n"
     ]
    },
    {
     "data": {
      "application/vnd.jupyter.widget-view+json": {
       "model_id": "04f81287eec54d00abc36d0bb8a17da2",
       "version_major": 2,
       "version_minor": 0
      },
      "text/plain": [
       "FloatProgress(value=0.0)"
      ]
     },
     "metadata": {},
     "output_type": "display_data"
    }
   ],
   "source": [
    "from ipywidgets import FloatProgress\n",
    "from IPython.display import display\n",
    "\n",
    "# Setting up a progress bar for the simulation\n",
    "print(\"Progress :\");\n",
    "PB = FloatProgress(min=0, max=nplot); display(PB) \n",
    "\n",
    "As=np.zeros((Grid_Width, Grid_Height, nplot))\n",
    "Bs=np.zeros((Grid_Width, Grid_Height, nplot))\n",
    "\n",
    "# Set up simulation parameters\n",
    "global_size = S_host.shape\n",
    "\n",
    "# Start the timer:\n",
    "start_time = time.time()\n",
    "\n",
    "# Starting the loop\n",
    "for ii in range(1,nplot):\n",
    "    # The simulation\n",
    "    # We store the state of the system for <NumPlot> different times.\n",
    "    As[:,:,ii] = S_host.reshape(Grid_Width, Grid_Height)\n",
    "    Bs[:,:,ii] = H_host.reshape(Grid_Width, Grid_Height) \n",
    "    for jj in range(1,nsteps):      \n",
    "        program.Simulation_Kernel(queue, global_size, None, S_g, H_g, CoeffS_g, CoeffH_g, TS_g, lambda_arr_g)\n",
    "\n",
    "    # Get the data from the GPU\n",
    "    cl.enqueue_copy(queue, S_host, S_g)\n",
    "    cl.enqueue_copy(queue, H_host, H_g)\n",
    "\n",
    "    PB.value += 1 # signal to increment the progress bar\n",
    "#     print(PB)\n",
    "# Determining the time that we used for the simulation\n",
    "elapsed_time = time.time() - start_time    \n",
    "print(\" Simulation took      : %1.1f (s)\" % (elapsed_time))"
   ]
  },
  {
   "cell_type": "markdown",
   "metadata": {},
   "source": [
    "# Plotting the results"
   ]
  },
  {
   "cell_type": "code",
   "execution_count": null,
   "metadata": {},
   "outputs": [],
   "source": [
    "### The Simulation loop\n",
    "nticker = 5\n",
    "orig_map=plt.cm.get_cmap('YlGn') # viridis  YlGn\n",
    "reversed_map = orig_map.reversed()\n",
    "from matplotlib import ticker\n",
    "fig, ax = plt.subplots(1, 1, figsize=(6, 6))\n",
    "\n",
    "im0 = ax.imshow(S_host.reshape(n,n),cmap='summer',extent=[0,length,0,length],clim=(0,1.0));#, clim=(0,0.1));\n",
    "#ax.set_title('S');\n",
    "ax.set_xlabel('Space, $x$ (cm)');\n",
    "ax.set_ylabel('Space, $y$ (cm)');\n",
    "cbar=plt.colorbar(im0, ax=ax,fraction=0.046,pad=0.04);\n",
    "# ax[0].set_yticks(np.linspace(0,length,nticker))\n",
    "tick_locator = ticker.MaxNLocator(nbins=5)\n",
    "cbar.locator = tick_locator\n",
    "cbar.update_ticks()\n",
    "Xlabels = np.linspace(0,length,nticker).round(0)\n",
    "Ylabels = np.linspace(0,length,nticker).round(0)\n",
    "ax.set_xticks(np.linspace(0,length,nticker))\n",
    "ax.set_xticklabels([0, 128, 256, 384, 512])\n",
    "# ax.set_xticklabels(Xlabels)\n",
    "ax.set_yticks(np.linspace(0,length,nticker))\n",
    "ax.set_yticklabels([0, 128, 256, 384, 512])\n",
    "# ax.set_yticklabels(Ylabels)\n"
   ]
  },
  {
   "cell_type": "code",
   "execution_count": null,
   "metadata": {},
   "outputs": [],
   "source": [
    "fig.savefig('Images_M2_Quadratic_Speed_Patterns_'+ str(S0_min)+'.pdf',bbox_inches='tight')"
   ]
  },
  {
   "cell_type": "code",
   "execution_count": null,
   "metadata": {},
   "outputs": [],
   "source": [
    "from scipy import io\n",
    "import os\n",
    "if not os.path.exists(\"Data_M2_Quadratic\"):\n",
    "    os.makedirs(\"Data_M2_Quadratic\")\n",
    "io.savemat('Data_M2_Quadratic/UV_dataV2_'+str(S0_min)+'.mat', {'Stone': As,'Smax': S0_max, 'Smin': S0_min,\n",
    "                                'Lmax':Lambda_max, 'Lmin': Lambda_min})\n",
    "# # load data: mathfn.mat from Matlab\n",
    "# # data = io.loadmat(matfn) \n",
    "imageio.imwrite('Images_M2_Quadratic_Speed_Patterns_'+ str(S0_min)+'.png',As[:,:,99])\n",
    "# im0.set_array(As[:,:,99])\n",
    "fig.savefig('Data_M2_Quadratic/Images_M2_Quadratic_Speed_Patterns_'+ str(S0_min)+'.pdf',bbox_inches='tight')"
   ]
  },
  {
   "cell_type": "code",
   "execution_count": null,
   "metadata": {
    "scrolled": true
   },
   "outputs": [],
   "source": [
    "from matplotlib import ticker\n",
    "fig, ax = plt.subplots(1, 2, figsize=(16, 6))\n",
    "im0 = ax[0].imshow(S_host.reshape(n,n),cmap='summer',extent=[0,length,0,length],clim=(0,1.0));#, clim=(0,0.1));\n",
    "ax[0].set_title('Stone');\n",
    "ax[0].set_xlabel('Space, $x$ (cm)');\n",
    "ax[0].set_ylabel('Space, $y$ (cm)');\n",
    "cbar=plt.colorbar(im0, ax=ax[0],fraction=0.046,pad=0.04);\n",
    "# ax[0].set_yticks(np.linspace(0,length,nticker))\n",
    "tick_locator = ticker.MaxNLocator(nbins=5)\n",
    "cbar.locator = tick_locator\n",
    "cbar.update_ticks()\n",
    "Xlabels = np.linspace(0,length,nticker).round(0)\n",
    "Ylabels = np.linspace(0,length,nticker).round(0)\n",
    "ax[0].set_xticks(np.linspace(0,length,nticker))\n",
    "ax[0].set_xticklabels([0, 128, 256, 384, 512])\n",
    "# ax[0].set_xticklabels(Xlabels)\n",
    "ax[0].set_yticks(np.linspace(0,length,nticker))\n",
    "ax[0].set_yticklabels([0, 128, 256, 384, 512])\n",
    "# ax[0].set_yticklabels(Ylabels)\n",
    "\n",
    "\n",
    "im1 = ax[1].imshow(H_host.reshape(n,n),cmap='summer',extent=[0,length,0,length],clim=(0,6.0));#, clim=(0,0.5));\n",
    "ax[1].set_title('Ice needle');\n",
    "ax[1].set_xlabel('Space, $X$ (cm)');\n",
    "# ax[1].set_ylabel('Movement speed decay rate, $\\lambda$');\n",
    "cbar=plt.colorbar(im1, ax=ax[1],fraction=0.046,pad=0.04);\n",
    "# ax[1].set_yticks(np.linspace(0,length,nticker))\n",
    "tick_locator = ticker.MaxNLocator(nbins=nticker)\n",
    "cbar.locator = tick_locator\n",
    "cbar.update_ticks()\n",
    "# Xlabels = np.linspace(3.0,11.0,nticker)\n",
    "# Ylabels = np.logspace(np.log10(0.01),np.log10(1.0),nticker)\n",
    "ax[1].set_xticks(np.linspace(0,length,nticker))\n",
    "ax[1].set_xticklabels([0, 128, 256, 384, 512])\n",
    "# ax[1].set_xticklabels(Xlabels)\n",
    "ax[1].set_yticks(np.linspace(0,length,nticker))\n",
    "ax[1].set_xticklabels([0, 128, 256, 384, 512])\n",
    "# ax[1].set_yticklabels(Ylabels)\n",
    "\n",
    "text=fig.suptitle(\"Time: %1.0f of %1.0f\" % (endtime, endtime), x=0.5, y=0.0, fontsize=16);"
   ]
  },
  {
   "cell_type": "markdown",
   "metadata": {},
   "source": [
    "# Making a movie"
   ]
  },
  {
   "cell_type": "code",
   "execution_count": null,
   "metadata": {},
   "outputs": [],
   "source": [
    "# from matplotlib import animation, rc\n",
    "\n",
    "# def updatefig(i): # To update the image at each iteration\n",
    "#     global As, Bs\n",
    "#     im0.set_array(As[:,:,i])\n",
    "#     im1.set_array(Bs[:,:,i])\n",
    "#     #text.set_text(\"Time: %1.0f of %1.0f\" % ((i+1)/nplot*endtime, endtime));\n",
    "#     #fig.savefig('Data/Images'+str(i)+'.pdf',bbox_inches='tight')\n",
    "#     return im0,im1,\n",
    "\n",
    "# ani = animation.FuncAnimation(fig, updatefig, interval=100, frames = nplot, repeat=False, blit=True)\n",
    "# print(\"Save figure finshes!\")"
   ]
  },
  {
   "cell_type": "code",
   "execution_count": null,
   "metadata": {},
   "outputs": [],
   "source": [
    "# import base64\n",
    "# from IPython.display import HTML\n",
    "# HTML(ani.to_html5_video())  \n",
    "# # write to an mp4 movie\n",
    "# Writer = animation.writers['ffmpeg']\n",
    "# writer = Writer(fps=10, bitrate=1800)\n",
    "# ani.save('clStone_ice_model2Q1_pattern_De(SH)_OneKernel.mp4', writer=writer)\n",
    "# print(\"Save movies finshes!\")"
   ]
  },
  {
   "cell_type": "markdown",
   "metadata": {},
   "source": [
    "## The End, Kang. 2021.0312 ECNU"
   ]
  }
 ],
 "metadata": {
  "kernelspec": {
   "display_name": "Python [conda env:.conda-qxliu]",
   "language": "python",
   "name": "conda-env-.conda-qxliu-py"
  },
  "language_info": {
   "codemirror_mode": {
    "name": "ipython",
    "version": 3
   },
   "file_extension": ".py",
   "mimetype": "text/x-python",
   "name": "python",
   "nbconvert_exporter": "python",
   "pygments_lexer": "ipython3",
   "version": "3.6.13"
  }
 },
 "nbformat": 4,
 "nbformat_minor": 4
}
